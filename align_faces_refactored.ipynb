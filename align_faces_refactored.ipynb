{
 "cells": [
  {
   "cell_type": "markdown",
   "metadata": {},
   "source": [
    "# Face Timelapse Portrait Generator\n",
    "\n",
    "This notebook demonstrates the refactored face alignment pipeline using the new modular structure."
   ]
  },
  {
   "cell_type": "markdown",
   "metadata": {},
   "source": [
    "## Setup and Configuration"
   ]
  },
  {
   "cell_type": "code",
   "execution_count": null,
   "metadata": {},
   "outputs": [],
   "source": [
    "import yaml\n",
    "import matplotlib.pyplot as plt\n",
    "import cv2\n",
    "from PIL import Image\n",
    "\n",
    "from src.metadata_manager import MetadataManager\n",
    "from src.image_processor import ImageProcessor\n",
    "from src.video_generator import VideoGenerator\n",
    "from src.average_image import AverageImageGenerator\n",
    "from src.google_photos import GooglePhotosDownloader\n",
    "\n",
    "# Load configuration\n",
    "with open('config.yaml', 'r') as f:\n",
    "    config = yaml.safe_load(f)\n",
    "\n",
    "print(\"Configuration loaded successfully\")"
   ]
  },
  {
   "cell_type": "markdown",
   "metadata": {},
   "source": [
    "## Initialize Components"
   ]
  },
  {
   "cell_type": "code",
   "execution_count": null,
   "metadata": {},
   "outputs": [],
   "source": [
    "# Initialize metadata manager\n",
    "metadata = MetadataManager(config['paths']['metadata'])\n",
    "\n",
    "# Initialize image processor\n",
    "processor = ImageProcessor(\n",
    "    landmarks_model_path=config['paths']['landmarks_model'],\n",
    "    face_width=config['alignment']['face_width'],\n",
    "    face_height=config['alignment']['face_height'],\n",
    "    left_eye_position=tuple(config['alignment']['left_eye_position']),\n",
    "    resize_width=config['alignment']['resize_width'],\n",
    "    upsample_times=config['detection']['upsample_times'],\n",
    "    auto_select_largest=config['detection']['auto_select_largest'],\n",
    "    verbose=True\n",
    ")\n",
    "\n",
    "print(\"Components initialized\")"
   ]
  },
  {
   "cell_type": "markdown",
   "metadata": {},
   "source": [
    "## Process a Single Image (for testing)"
   ]
  },
  {
   "cell_type": "code",
   "execution_count": null,
   "metadata": {},
   "outputs": [],
   "source": [
    "# Pick a test image\n",
    "test_image_path = 'original_faces/test_image.jpg'  # Change to your actual image path\n",
    "output_path = 'test_aligned.jpg'\n",
    "\n",
    "# Process single image\n",
    "success = processor.process_single_image(\n",
    "    test_image_path,\n",
    "    output_path,\n",
    "    metadata=metadata,\n",
    "    skip_existing=False\n",
    ")\n",
    "\n",
    "if success:\n",
    "    # Display results\n",
    "    fig, (ax1, ax2) = plt.subplots(1, 2, figsize=(12, 6))\n",
    "    \n",
    "    # Original\n",
    "    original = cv2.imread(test_image_path)\n",
    "    original_rgb = cv2.cvtColor(original, cv2.COLOR_BGR2RGB)\n",
    "    ax1.imshow(original_rgb)\n",
    "    ax1.set_title('Original')\n",
    "    ax1.axis('off')\n",
    "    \n",
    "    # Aligned\n",
    "    aligned = cv2.imread(output_path)\n",
    "    aligned_rgb = cv2.cvtColor(aligned, cv2.COLOR_BGR2RGB)\n",
    "    ax2.imshow(aligned_rgb)\n",
    "    ax2.set_title('Aligned')\n",
    "    ax2.axis('off')\n",
    "    \n",
    "    plt.tight_layout()\n",
    "    plt.show()\n",
    "else:\n",
    "    print(\"Failed to process image\")"
   ]
  },
  {
   "cell_type": "markdown",
   "metadata": {},
   "source": [
    "## Process All Images in Directory"
   ]
  },
  {
   "cell_type": "code",
   "execution_count": null,
   "metadata": {},
   "outputs": [],
   "source": [
    "# Process entire directory\n",
    "successful, failed = processor.process_directory(\n",
    "    config['paths']['original_faces'],\n",
    "    config['paths']['aligned_faces'],\n",
    "    metadata=metadata,\n",
    "    skip_existing=True\n",
    ")\n",
    "\n",
    "print(f\"\\nResults:\")\n",
    "print(f\"  Successful: {successful}\")\n",
    "print(f\"  Failed: {failed}\")"
   ]
  },
  {
   "cell_type": "markdown",
   "metadata": {},
   "source": [
    "## Generate Videos"
   ]
  },
  {
   "cell_type": "code",
   "execution_count": null,
   "metadata": {},
   "outputs": [],
   "source": [
    "# Get images with dates\n",
    "date_images = ImageProcessor.get_images_with_dates(\n",
    "    config['paths']['aligned_faces'],\n",
    "    metadata\n",
    ")\n",
    "\n",
    "print(f\"Found {len(date_images)} images with dates\")\n",
    "\n",
    "# Initialize video generator\n",
    "video_gen = VideoGenerator(\n",
    "    fps=config['video']['fps'],\n",
    "    codec=config['video']['codec'],\n",
    "    show_date_overlay=config['video']['show_date_overlay'],\n",
    "    verbose=True\n",
    ")\n",
    "\n",
    "# Create overall video\n",
    "video_gen.create_overall_video(\n",
    "    f\"{config['paths']['videos']}/timelapse.mp4\",\n",
    "    date_images\n",
    ")\n",
    "\n",
    "# Create yearly videos\n",
    "if config['video']['generate_yearly_videos']:\n",
    "    videos_created = video_gen.create_videos_by_year(\n",
    "        config['paths']['videos'],\n",
    "        date_images\n",
    "    )\n",
    "    print(f\"Created {videos_created} yearly videos\")"
   ]
  },
  {
   "cell_type": "markdown",
   "metadata": {},
   "source": [
    "## Generate Average Images"
   ]
  },
  {
   "cell_type": "code",
   "execution_count": null,
   "metadata": {},
   "outputs": [],
   "source": [
    "# Initialize average image generator\n",
    "avg_gen = AverageImageGenerator(verbose=True)\n",
    "\n",
    "# Generate all averages\n",
    "counts = avg_gen.generate_all_averages(\n",
    "    date_images,\n",
    "    config['paths']['average_images'],\n",
    "    generate_overall=config['average_images']['generate_overall'],\n",
    "    generate_by_year=config['average_images']['generate_by_year'],\n",
    "    generate_by_quarter=config['average_images']['generate_by_quarter'],\n",
    "    generate_by_month=config['average_images']['generate_by_month'],\n",
    "    min_images=config['average_images']['min_images']\n",
    ")\n",
    "\n",
    "print(\"\\nAverage images generated:\")\n",
    "print(f\"  Overall: {counts['overall']}\")\n",
    "print(f\"  Yearly: {counts['year']}\")\n",
    "print(f\"  Quarterly: {counts['quarter']}\")\n",
    "print(f\"  Monthly: {counts['month']}\")"
   ]
  },
  {
   "cell_type": "markdown",
   "metadata": {},
   "source": [
    "## Display Average Image"
   ]
  },
  {
   "cell_type": "code",
   "execution_count": null,
   "metadata": {},
   "outputs": [],
   "source": [
    "# Display overall average\n",
    "overall_avg_path = f\"{config['paths']['average_images']}/overall_average_image.jpg\"\n",
    "avg_image = cv2.imread(overall_avg_path)\n",
    "avg_rgb = cv2.cvtColor(avg_image, cv2.COLOR_BGR2RGB)\n",
    "\n",
    "plt.figure(figsize=(8, 8))\n",
    "plt.imshow(avg_rgb)\n",
    "plt.title('Overall Average Face')\n",
    "plt.axis('off')\n",
    "plt.show()"
   ]
  },
  {
   "cell_type": "markdown",
   "metadata": {},
   "source": [
    "## Google Photos Integration (Optional)"
   ]
  },
  {
   "cell_type": "code",
   "execution_count": null,
   "metadata": {},
   "outputs": [],
   "source": [
    "# Only run if Google Photos is configured\n",
    "if config['google_photos']['enabled']:\n",
    "    downloader = GooglePhotosDownloader(verbose=True)\n",
    "    \n",
    "    # Sync album\n",
    "    downloaded = downloader.sync_album(\n",
    "        config['google_photos']['album_name'],\n",
    "        config['paths']['original_faces'],\n",
    "        metadata\n",
    "    )\n",
    "    \n",
    "    print(f\"Downloaded {downloaded} new photos\")\n",
    "else:\n",
    "    print(\"Google Photos sync is disabled in config.yaml\")"
   ]
  },
  {
   "cell_type": "markdown",
   "metadata": {},
   "source": [
    "## Metadata Analysis"
   ]
  },
  {
   "cell_type": "code",
   "execution_count": null,
   "metadata": {},
   "outputs": [],
   "source": [
    "# View failed images\n",
    "failed_images = metadata.get_failed_images()\n",
    "\n",
    "print(f\"Total failed images: {len(failed_images)}\\n\")\n",
    "\n",
    "# Group by category\n",
    "by_category = {}\n",
    "for img, info in failed_images.items():\n",
    "    category = info.get('category', 'unknown')\n",
    "    if category not in by_category:\n",
    "        by_category[category] = []\n",
    "    by_category[category].append(img)\n",
    "\n",
    "for category, images in by_category.items():\n",
    "    print(f\"{category}: {len(images)} images\")\n",
    "    for img in images[:5]:  # Show first 5\n",
    "        print(f\"  - {img}\")\n",
    "    if len(images) > 5:\n",
    "        print(f\"  ... and {len(images) - 5} more\")\n",
    "    print()"
   ]
  }
 ],
 "metadata": {
  "kernelspec": {
   "display_name": "Python 3",
   "language": "python",
   "name": "python3"
  },
  "language_info": {
   "codemirror_mode": {
    "name": "ipython",
    "version": 3
   },
   "file_extension": ".py",
   "mimetype": "text/x-python",
   "name": "python",
   "nbconvert_exporter": "python",
   "pygments_lexer": "ipython3",
   "version": "3.8.0"
  }
 },
 "nbformat": 4,
 "nbformat_minor": 4
}
